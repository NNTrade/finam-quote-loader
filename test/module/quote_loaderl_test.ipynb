{
 "cells": [
  {
   "cell_type": "code",
   "execution_count": 7,
   "metadata": {},
   "outputs": [],
   "source": [
    "from finam import Exporter,Market,Timeframe,LookupComparator\n",
    "import datetime"
   ]
  },
  {
   "cell_type": "markdown",
   "metadata": {},
   "source": [
    "# Analitic"
   ]
  },
  {
   "cell_type": "code",
   "execution_count": 5,
   "metadata": {},
   "outputs": [],
   "source": [
    "market = Market.CURRENCIES_WORLD\n",
    "id = 83"
   ]
  },
  {
   "cell_type": "code",
   "execution_count": 11,
   "metadata": {},
   "outputs": [
    {
     "data": {
      "text/html": [
       "<div>\n",
       "<style scoped>\n",
       "    .dataframe tbody tr th:only-of-type {\n",
       "        vertical-align: middle;\n",
       "    }\n",
       "\n",
       "    .dataframe tbody tr th {\n",
       "        vertical-align: top;\n",
       "    }\n",
       "\n",
       "    .dataframe thead th {\n",
       "        text-align: right;\n",
       "    }\n",
       "</style>\n",
       "<table border=\"1\" class=\"dataframe\">\n",
       "  <thead>\n",
       "    <tr style=\"text-align: right;\">\n",
       "      <th></th>\n",
       "      <th>name</th>\n",
       "      <th>code</th>\n",
       "      <th>market</th>\n",
       "    </tr>\n",
       "    <tr>\n",
       "      <th>id</th>\n",
       "      <th></th>\n",
       "      <th></th>\n",
       "      <th></th>\n",
       "    </tr>\n",
       "  </thead>\n",
       "  <tbody>\n",
       "    <tr>\n",
       "      <th>83</th>\n",
       "      <td>Eur/Usd</td>\n",
       "      <td>EURUSD</td>\n",
       "      <td>5</td>\n",
       "    </tr>\n",
       "  </tbody>\n",
       "</table>\n",
       "</div>"
      ],
      "text/plain": [
       "       name    code  market\n",
       "id                         \n",
       "83  Eur/Usd  EURUSD       5"
      ]
     },
     "execution_count": 11,
     "metadata": {},
     "output_type": "execute_result"
    }
   ],
   "source": [
    "df = Exporter().lookup(market = Market.CURRENCIES_WORLD, code=\"EURUSD\", code_comparator=LookupComparator.EQUALS)\n",
    "df"
   ]
  },
  {
   "cell_type": "code",
   "execution_count": 12,
   "metadata": {},
   "outputs": [
    {
     "data": {
      "text/plain": [
       "1"
      ]
     },
     "execution_count": 12,
     "metadata": {},
     "output_type": "execute_result"
    }
   ],
   "source": [
    "len(df)"
   ]
  },
  {
   "cell_type": "code",
   "execution_count": 14,
   "metadata": {},
   "outputs": [
    {
     "data": {
      "text/plain": [
       "83"
      ]
     },
     "execution_count": 14,
     "metadata": {},
     "output_type": "execute_result"
    }
   ],
   "source": [
    "df.iloc[0].name"
   ]
  },
  {
   "cell_type": "code",
   "execution_count": 8,
   "metadata": {},
   "outputs": [
    {
     "data": {
      "text/html": [
       "<div>\n",
       "<style scoped>\n",
       "    .dataframe tbody tr th:only-of-type {\n",
       "        vertical-align: middle;\n",
       "    }\n",
       "\n",
       "    .dataframe tbody tr th {\n",
       "        vertical-align: top;\n",
       "    }\n",
       "\n",
       "    .dataframe thead th {\n",
       "        text-align: right;\n",
       "    }\n",
       "</style>\n",
       "<table border=\"1\" class=\"dataframe\">\n",
       "  <thead>\n",
       "    <tr style=\"text-align: right;\">\n",
       "      <th></th>\n",
       "      <th>name</th>\n",
       "      <th>code</th>\n",
       "      <th>market</th>\n",
       "    </tr>\n",
       "    <tr>\n",
       "      <th>id</th>\n",
       "      <th></th>\n",
       "      <th></th>\n",
       "      <th></th>\n",
       "    </tr>\n",
       "  </thead>\n",
       "  <tbody>\n",
       "    <tr>\n",
       "      <th>83</th>\n",
       "      <td>Eur/Usd</td>\n",
       "      <td>EURUSD</td>\n",
       "      <td>5</td>\n",
       "    </tr>\n",
       "  </tbody>\n",
       "</table>\n",
       "</div>"
      ],
      "text/plain": [
       "       name    code  market\n",
       "id                         \n",
       "83  Eur/Usd  EURUSD       5"
      ]
     },
     "execution_count": 8,
     "metadata": {},
     "output_type": "execute_result"
    }
   ],
   "source": [
    "Exporter().lookup(market = market, id_=83)"
   ]
  },
  {
   "cell_type": "code",
   "execution_count": 38,
   "metadata": {},
   "outputs": [
    {
     "data": {
      "text/html": [
       "<div>\n",
       "<style scoped>\n",
       "    .dataframe tbody tr th:only-of-type {\n",
       "        vertical-align: middle;\n",
       "    }\n",
       "\n",
       "    .dataframe tbody tr th {\n",
       "        vertical-align: top;\n",
       "    }\n",
       "\n",
       "    .dataframe thead th {\n",
       "        text-align: right;\n",
       "    }\n",
       "</style>\n",
       "<table border=\"1\" class=\"dataframe\">\n",
       "  <thead>\n",
       "    <tr style=\"text-align: right;\">\n",
       "      <th></th>\n",
       "      <th>&lt;DATE&gt;</th>\n",
       "      <th>&lt;TIME&gt;</th>\n",
       "      <th>&lt;OPEN&gt;</th>\n",
       "      <th>&lt;HIGH&gt;</th>\n",
       "      <th>&lt;LOW&gt;</th>\n",
       "      <th>&lt;CLOSE&gt;</th>\n",
       "      <th>&lt;VOL&gt;</th>\n",
       "    </tr>\n",
       "  </thead>\n",
       "  <tbody>\n",
       "    <tr>\n",
       "      <th>0</th>\n",
       "      <td>20200101</td>\n",
       "      <td>00:00:00</td>\n",
       "      <td>1.12172</td>\n",
       "      <td>1.12174</td>\n",
       "      <td>1.12079</td>\n",
       "      <td>1.12110</td>\n",
       "      <td>12821</td>\n",
       "    </tr>\n",
       "    <tr>\n",
       "      <th>1</th>\n",
       "      <td>20200101</td>\n",
       "      <td>02:00:00</td>\n",
       "      <td>1.12123</td>\n",
       "      <td>1.12123</td>\n",
       "      <td>1.12117</td>\n",
       "      <td>1.12117</td>\n",
       "      <td>2</td>\n",
       "    </tr>\n",
       "    <tr>\n",
       "      <th>2</th>\n",
       "      <td>20200101</td>\n",
       "      <td>20:00:00</td>\n",
       "      <td>1.12154</td>\n",
       "      <td>1.12154</td>\n",
       "      <td>1.12154</td>\n",
       "      <td>1.12154</td>\n",
       "      <td>1</td>\n",
       "    </tr>\n",
       "    <tr>\n",
       "      <th>3</th>\n",
       "      <td>20200101</td>\n",
       "      <td>21:00:00</td>\n",
       "      <td>1.12080</td>\n",
       "      <td>1.12214</td>\n",
       "      <td>1.12080</td>\n",
       "      <td>1.12124</td>\n",
       "      <td>63</td>\n",
       "    </tr>\n",
       "    <tr>\n",
       "      <th>4</th>\n",
       "      <td>20200101</td>\n",
       "      <td>22:00:00</td>\n",
       "      <td>1.12130</td>\n",
       "      <td>1.12159</td>\n",
       "      <td>1.12120</td>\n",
       "      <td>1.12127</td>\n",
       "      <td>70</td>\n",
       "    </tr>\n",
       "    <tr>\n",
       "      <th>5</th>\n",
       "      <td>20200101</td>\n",
       "      <td>23:00:00</td>\n",
       "      <td>1.12130</td>\n",
       "      <td>1.12180</td>\n",
       "      <td>1.12100</td>\n",
       "      <td>1.12134</td>\n",
       "      <td>56</td>\n",
       "    </tr>\n",
       "    <tr>\n",
       "      <th>6</th>\n",
       "      <td>20200102</td>\n",
       "      <td>00:00:00</td>\n",
       "      <td>1.12123</td>\n",
       "      <td>1.12126</td>\n",
       "      <td>1.12100</td>\n",
       "      <td>1.12126</td>\n",
       "      <td>3</td>\n",
       "    </tr>\n",
       "  </tbody>\n",
       "</table>\n",
       "</div>"
      ],
      "text/plain": [
       "     <DATE>    <TIME>   <OPEN>   <HIGH>    <LOW>  <CLOSE>  <VOL>\n",
       "0  20200101  00:00:00  1.12172  1.12174  1.12079  1.12110  12821\n",
       "1  20200101  02:00:00  1.12123  1.12123  1.12117  1.12117      2\n",
       "2  20200101  20:00:00  1.12154  1.12154  1.12154  1.12154      1\n",
       "3  20200101  21:00:00  1.12080  1.12214  1.12080  1.12124     63\n",
       "4  20200101  22:00:00  1.12130  1.12159  1.12120  1.12127     70\n",
       "5  20200101  23:00:00  1.12130  1.12180  1.12100  1.12134     56\n",
       "6  20200102  00:00:00  1.12123  1.12126  1.12100  1.12126      3"
      ]
     },
     "execution_count": 38,
     "metadata": {},
     "output_type": "execute_result"
    }
   ],
   "source": [
    "df = Exporter().download(id_=83, market=market,start_date=datetime.date(2020, 1, 1), end_date=datetime.date(2020, 1, 1),timeframe=Timeframe.HOURLY)\n",
    "df"
   ]
  },
  {
   "cell_type": "code",
   "execution_count": 39,
   "metadata": {},
   "outputs": [
    {
     "data": {
      "text/html": [
       "<div>\n",
       "<style scoped>\n",
       "    .dataframe tbody tr th:only-of-type {\n",
       "        vertical-align: middle;\n",
       "    }\n",
       "\n",
       "    .dataframe tbody tr th {\n",
       "        vertical-align: top;\n",
       "    }\n",
       "\n",
       "    .dataframe thead th {\n",
       "        text-align: right;\n",
       "    }\n",
       "</style>\n",
       "<table border=\"1\" class=\"dataframe\">\n",
       "  <thead>\n",
       "    <tr style=\"text-align: right;\">\n",
       "      <th></th>\n",
       "      <th>&lt;DATE&gt;</th>\n",
       "      <th>&lt;TIME&gt;</th>\n",
       "      <th>&lt;OPEN&gt;</th>\n",
       "      <th>&lt;HIGH&gt;</th>\n",
       "      <th>&lt;LOW&gt;</th>\n",
       "      <th>&lt;CLOSE&gt;</th>\n",
       "      <th>&lt;VOL&gt;</th>\n",
       "      <th>DT</th>\n",
       "    </tr>\n",
       "  </thead>\n",
       "  <tbody>\n",
       "    <tr>\n",
       "      <th>0</th>\n",
       "      <td>20200101</td>\n",
       "      <td>00:00:00</td>\n",
       "      <td>1.12172</td>\n",
       "      <td>1.12174</td>\n",
       "      <td>1.12079</td>\n",
       "      <td>1.12110</td>\n",
       "      <td>12821</td>\n",
       "      <td>20200101-0000</td>\n",
       "    </tr>\n",
       "    <tr>\n",
       "      <th>1</th>\n",
       "      <td>20200101</td>\n",
       "      <td>02:00:00</td>\n",
       "      <td>1.12123</td>\n",
       "      <td>1.12123</td>\n",
       "      <td>1.12117</td>\n",
       "      <td>1.12117</td>\n",
       "      <td>2</td>\n",
       "      <td>20200101-0200</td>\n",
       "    </tr>\n",
       "    <tr>\n",
       "      <th>2</th>\n",
       "      <td>20200101</td>\n",
       "      <td>20:00:00</td>\n",
       "      <td>1.12154</td>\n",
       "      <td>1.12154</td>\n",
       "      <td>1.12154</td>\n",
       "      <td>1.12154</td>\n",
       "      <td>1</td>\n",
       "      <td>20200101-2000</td>\n",
       "    </tr>\n",
       "    <tr>\n",
       "      <th>3</th>\n",
       "      <td>20200101</td>\n",
       "      <td>21:00:00</td>\n",
       "      <td>1.12080</td>\n",
       "      <td>1.12214</td>\n",
       "      <td>1.12080</td>\n",
       "      <td>1.12124</td>\n",
       "      <td>63</td>\n",
       "      <td>20200101-2100</td>\n",
       "    </tr>\n",
       "    <tr>\n",
       "      <th>4</th>\n",
       "      <td>20200101</td>\n",
       "      <td>22:00:00</td>\n",
       "      <td>1.12130</td>\n",
       "      <td>1.12159</td>\n",
       "      <td>1.12120</td>\n",
       "      <td>1.12127</td>\n",
       "      <td>70</td>\n",
       "      <td>20200101-2200</td>\n",
       "    </tr>\n",
       "    <tr>\n",
       "      <th>5</th>\n",
       "      <td>20200101</td>\n",
       "      <td>23:00:00</td>\n",
       "      <td>1.12130</td>\n",
       "      <td>1.12180</td>\n",
       "      <td>1.12100</td>\n",
       "      <td>1.12134</td>\n",
       "      <td>56</td>\n",
       "      <td>20200101-2300</td>\n",
       "    </tr>\n",
       "    <tr>\n",
       "      <th>6</th>\n",
       "      <td>20200102</td>\n",
       "      <td>00:00:00</td>\n",
       "      <td>1.12123</td>\n",
       "      <td>1.12126</td>\n",
       "      <td>1.12100</td>\n",
       "      <td>1.12126</td>\n",
       "      <td>3</td>\n",
       "      <td>20200102-0000</td>\n",
       "    </tr>\n",
       "  </tbody>\n",
       "</table>\n",
       "</div>"
      ],
      "text/plain": [
       "     <DATE>    <TIME>   <OPEN>   <HIGH>    <LOW>  <CLOSE>  <VOL>  \\\n",
       "0  20200101  00:00:00  1.12172  1.12174  1.12079  1.12110  12821   \n",
       "1  20200101  02:00:00  1.12123  1.12123  1.12117  1.12117      2   \n",
       "2  20200101  20:00:00  1.12154  1.12154  1.12154  1.12154      1   \n",
       "3  20200101  21:00:00  1.12080  1.12214  1.12080  1.12124     63   \n",
       "4  20200101  22:00:00  1.12130  1.12159  1.12120  1.12127     70   \n",
       "5  20200101  23:00:00  1.12130  1.12180  1.12100  1.12134     56   \n",
       "6  20200102  00:00:00  1.12123  1.12126  1.12100  1.12126      3   \n",
       "\n",
       "              DT  \n",
       "0  20200101-0000  \n",
       "1  20200101-0200  \n",
       "2  20200101-2000  \n",
       "3  20200101-2100  \n",
       "4  20200101-2200  \n",
       "5  20200101-2300  \n",
       "6  20200102-0000  "
      ]
     },
     "execution_count": 39,
     "metadata": {},
     "output_type": "execute_result"
    }
   ],
   "source": [
    "df[\"DT\"] = df.apply(lambda row: f'{row[\"<DATE>\"]}-{row[\"<TIME>\"][:2]}{row[\"<TIME>\"][3:5]}',axis=1)\n",
    "df"
   ]
  },
  {
   "cell_type": "code",
   "execution_count": 40,
   "metadata": {},
   "outputs": [
    {
     "data": {
      "text/plain": [
       "\"[{'DT': '20200101-0000', 'O': 1.12172, 'H': 1.12174, 'L': 1.12079, 'C': 1.1211, 'V': 12821}, {'DT': '20200101-0200', 'O': 1.12123, 'H': 1.12123, 'L': 1.12117, 'C': 1.12117, 'V': 2}, {'DT': '20200101-2000', 'O': 1.12154, 'H': 1.12154, 'L': 1.12154, 'C': 1.12154, 'V': 1}, {'DT': '20200101-2100', 'O': 1.1208, 'H': 1.12214, 'L': 1.1208, 'C': 1.12124, 'V': 63}, {'DT': '20200101-2200', 'O': 1.1213, 'H': 1.12159, 'L': 1.1212, 'C': 1.12127, 'V': 70}, {'DT': '20200101-2300', 'O': 1.1213, 'H': 1.1218, 'L': 1.121, 'C': 1.12134, 'V': 56}, {'DT': '20200102-0000', 'O': 1.12123, 'H': 1.12126, 'L': 1.121, 'C': 1.12126, 'V': 3}]\""
      ]
     },
     "execution_count": 40,
     "metadata": {},
     "output_type": "execute_result"
    }
   ],
   "source": [
    "import json\n",
    "\n",
    "df = df.rename(columns={\"<OPEN>\":\"O\", \"<HIGH>\":\"H\", \"<LOW>\":\"L\", \"<CLOSE>\":\"C\", \"<VOL>\":\"V\"}).drop(['<DATE>', '<TIME>'], axis=1).reindex([\"DT\",\"O\",\"H\",\"L\",\"C\",\"V\"], axis=1)\n",
    "str(json.loads(df.to_json(orient=\"records\")))"
   ]
  },
  {
   "cell_type": "markdown",
   "metadata": {},
   "source": [
    "# Test"
   ]
  },
  {
   "cell_type": "code",
   "execution_count": 2,
   "metadata": {},
   "outputs": [
    {
     "data": {
      "text/plain": [
       "1"
      ]
     },
     "execution_count": 2,
     "metadata": {},
     "output_type": "execute_result"
    }
   ],
   "source": [
    "args= {}\n",
    "args[\"test\"]=1\n",
    "args.get(\"test\")"
   ]
  }
 ],
 "metadata": {
  "interpreter": {
   "hash": "949777d72b0d2535278d3dc13498b2535136f6dfe0678499012e853ee9abcab1"
  },
  "kernelspec": {
   "display_name": "Python 3.9.9 64-bit",
   "language": "python",
   "name": "python3"
  },
  "language_info": {
   "codemirror_mode": {
    "name": "ipython",
    "version": 3
   },
   "file_extension": ".py",
   "mimetype": "text/x-python",
   "name": "python",
   "nbconvert_exporter": "python",
   "pygments_lexer": "ipython3",
   "version": "3.9.9"
  },
  "orig_nbformat": 4
 },
 "nbformat": 4,
 "nbformat_minor": 2
}
